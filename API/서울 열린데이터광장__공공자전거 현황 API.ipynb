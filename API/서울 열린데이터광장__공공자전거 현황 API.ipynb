{
 "cells": [
  {
   "cell_type": "markdown",
   "id": "chemical-stewart",
   "metadata": {},
   "source": [
    "http://data.seoul.go.kr/dataList/OA-15493/A/1/datasetView.do 의 데이터 추출"
   ]
  },
  {
   "cell_type": "markdown",
   "id": "actual-blogger",
   "metadata": {},
   "source": [
    "# Module import"
   ]
  },
  {
   "cell_type": "code",
   "execution_count": 1,
   "id": "shared-ready",
   "metadata": {},
   "outputs": [],
   "source": [
    "import pandas as pd\n",
    "import requests"
   ]
  },
  {
   "cell_type": "code",
   "execution_count": 2,
   "id": "official-phrase",
   "metadata": {},
   "outputs": [],
   "source": [
    "text = open('C:/Users/goran/Desktop/Personal/key/서울 열린데이터광장.txt','r')\n",
    "key = text.read()"
   ]
  },
  {
   "cell_type": "markdown",
   "id": "proprietary-firmware",
   "metadata": {},
   "source": [
    "# Get data"
   ]
  },
  {
   "cell_type": "code",
   "execution_count": 3,
   "id": "accessory-traffic",
   "metadata": {},
   "outputs": [],
   "source": [
    "def get_data(start,end):\n",
    "    url = f'http://openapi.seoul.go.kr:8088/{key}/json/bikeList/{start}/{end}/'\n",
    "    response = requests.get(url)\n",
    "    data = response.json()\n",
    "    data = pd.DataFrame(data['rentBikeStatus']['row'])\n",
    "    return data"
   ]
  },
  {
   "cell_type": "code",
   "execution_count": 4,
   "id": "domestic-parade",
   "metadata": {},
   "outputs": [],
   "source": [
    "data1 = get_data(1,1000)\n",
    "data2 = get_data(1001,2000)\n",
    "data3 = get_data(2001,3000)"
   ]
  },
  {
   "cell_type": "markdown",
   "id": "ahead-airplane",
   "metadata": {},
   "source": [
    "# Data concat"
   ]
  },
  {
   "cell_type": "code",
   "execution_count": 5,
   "id": "functioning-vehicle",
   "metadata": {},
   "outputs": [],
   "source": [
    "df = pd.concat([data1,data2,data3])"
   ]
  },
  {
   "cell_type": "code",
   "execution_count": 6,
   "id": "large-honey",
   "metadata": {},
   "outputs": [
    {
     "data": {
      "text/html": [
       "<div>\n",
       "<style scoped>\n",
       "    .dataframe tbody tr th:only-of-type {\n",
       "        vertical-align: middle;\n",
       "    }\n",
       "\n",
       "    .dataframe tbody tr th {\n",
       "        vertical-align: top;\n",
       "    }\n",
       "\n",
       "    .dataframe thead th {\n",
       "        text-align: right;\n",
       "    }\n",
       "</style>\n",
       "<table border=\"1\" class=\"dataframe\">\n",
       "  <thead>\n",
       "    <tr style=\"text-align: right;\">\n",
       "      <th></th>\n",
       "      <th>rackTotCnt</th>\n",
       "      <th>stationName</th>\n",
       "      <th>parkingBikeTotCnt</th>\n",
       "      <th>shared</th>\n",
       "      <th>stationLatitude</th>\n",
       "      <th>stationLongitude</th>\n",
       "      <th>stationId</th>\n",
       "    </tr>\n",
       "  </thead>\n",
       "  <tbody>\n",
       "    <tr>\n",
       "      <th>0</th>\n",
       "      <td>22</td>\n",
       "      <td>102. 망원역 1번출구 앞</td>\n",
       "      <td>13</td>\n",
       "      <td>59</td>\n",
       "      <td>37.55564880</td>\n",
       "      <td>126.91062927</td>\n",
       "      <td>ST-4</td>\n",
       "    </tr>\n",
       "    <tr>\n",
       "      <th>1</th>\n",
       "      <td>16</td>\n",
       "      <td>103. 망원역 2번출구 앞</td>\n",
       "      <td>22</td>\n",
       "      <td>138</td>\n",
       "      <td>37.55495071</td>\n",
       "      <td>126.91083527</td>\n",
       "      <td>ST-5</td>\n",
       "    </tr>\n",
       "    <tr>\n",
       "      <th>2</th>\n",
       "      <td>15</td>\n",
       "      <td>104. 합정역 1번출구 앞</td>\n",
       "      <td>2</td>\n",
       "      <td>13</td>\n",
       "      <td>37.55062866</td>\n",
       "      <td>126.91498566</td>\n",
       "      <td>ST-6</td>\n",
       "    </tr>\n",
       "    <tr>\n",
       "      <th>3</th>\n",
       "      <td>7</td>\n",
       "      <td>105. 합정역 5번출구 앞</td>\n",
       "      <td>0</td>\n",
       "      <td>0</td>\n",
       "      <td>37.55000687</td>\n",
       "      <td>126.91482544</td>\n",
       "      <td>ST-7</td>\n",
       "    </tr>\n",
       "    <tr>\n",
       "      <th>4</th>\n",
       "      <td>12</td>\n",
       "      <td>106. 합정역 7번출구 앞</td>\n",
       "      <td>3</td>\n",
       "      <td>25</td>\n",
       "      <td>37.54864502</td>\n",
       "      <td>126.91282654</td>\n",
       "      <td>ST-8</td>\n",
       "    </tr>\n",
       "    <tr>\n",
       "      <th>...</th>\n",
       "      <td>...</td>\n",
       "      <td>...</td>\n",
       "      <td>...</td>\n",
       "      <td>...</td>\n",
       "      <td>...</td>\n",
       "      <td>...</td>\n",
       "      <td>...</td>\n",
       "    </tr>\n",
       "    <tr>\n",
       "      <th>260</th>\n",
       "      <td>10</td>\n",
       "      <td>4854. 가락시장역 2번 출구</td>\n",
       "      <td>1</td>\n",
       "      <td>10</td>\n",
       "      <td>37.49273300</td>\n",
       "      <td>127.11798859</td>\n",
       "      <td>ST-2606</td>\n",
       "    </tr>\n",
       "    <tr>\n",
       "      <th>261</th>\n",
       "      <td>10</td>\n",
       "      <td>4855. 거여5단지 503동 앞</td>\n",
       "      <td>11</td>\n",
       "      <td>110</td>\n",
       "      <td>37.48933029</td>\n",
       "      <td>127.14604950</td>\n",
       "      <td>ST-2607</td>\n",
       "    </tr>\n",
       "    <tr>\n",
       "      <th>262</th>\n",
       "      <td>10</td>\n",
       "      <td>4856. 올림픽공원 서1문 앞</td>\n",
       "      <td>2</td>\n",
       "      <td>20</td>\n",
       "      <td>37.52021790</td>\n",
       "      <td>127.11457062</td>\n",
       "      <td>ST-2608</td>\n",
       "    </tr>\n",
       "    <tr>\n",
       "      <th>263</th>\n",
       "      <td>15</td>\n",
       "      <td>4857. 올림픽공원 장미광장</td>\n",
       "      <td>0</td>\n",
       "      <td>0</td>\n",
       "      <td>37.51275635</td>\n",
       "      <td>127.12629700</td>\n",
       "      <td>ST-2621</td>\n",
       "    </tr>\n",
       "    <tr>\n",
       "      <th>264</th>\n",
       "      <td>15</td>\n",
       "      <td>4859. 잠실나루 나들목</td>\n",
       "      <td>2</td>\n",
       "      <td>13</td>\n",
       "      <td>37.52148438</td>\n",
       "      <td>127.10028076</td>\n",
       "      <td>ST-2609</td>\n",
       "    </tr>\n",
       "  </tbody>\n",
       "</table>\n",
       "<p>2265 rows × 7 columns</p>\n",
       "</div>"
      ],
      "text/plain": [
       "    rackTotCnt         stationName parkingBikeTotCnt shared stationLatitude  \\\n",
       "0           22     102. 망원역 1번출구 앞                13     59     37.55564880   \n",
       "1           16     103. 망원역 2번출구 앞                22    138     37.55495071   \n",
       "2           15     104. 합정역 1번출구 앞                 2     13     37.55062866   \n",
       "3            7     105. 합정역 5번출구 앞                 0      0     37.55000687   \n",
       "4           12     106. 합정역 7번출구 앞                 3     25     37.54864502   \n",
       "..         ...                 ...               ...    ...             ...   \n",
       "260         10   4854. 가락시장역 2번 출구                 1     10     37.49273300   \n",
       "261         10  4855. 거여5단지 503동 앞                11    110     37.48933029   \n",
       "262         10   4856. 올림픽공원 서1문 앞                 2     20     37.52021790   \n",
       "263         15    4857. 올림픽공원 장미광장                 0      0     37.51275635   \n",
       "264         15      4859. 잠실나루 나들목                 2     13     37.52148438   \n",
       "\n",
       "    stationLongitude stationId  \n",
       "0       126.91062927      ST-4  \n",
       "1       126.91083527      ST-5  \n",
       "2       126.91498566      ST-6  \n",
       "3       126.91482544      ST-7  \n",
       "4       126.91282654      ST-8  \n",
       "..               ...       ...  \n",
       "260     127.11798859   ST-2606  \n",
       "261     127.14604950   ST-2607  \n",
       "262     127.11457062   ST-2608  \n",
       "263     127.12629700   ST-2621  \n",
       "264     127.10028076   ST-2609  \n",
       "\n",
       "[2265 rows x 7 columns]"
      ]
     },
     "execution_count": 6,
     "metadata": {},
     "output_type": "execute_result"
    }
   ],
   "source": [
    "df"
   ]
  },
  {
   "cell_type": "code",
   "execution_count": 7,
   "id": "opened-banana",
   "metadata": {},
   "outputs": [],
   "source": [
    "df.reset_index(inplace = True,drop = True)"
   ]
  },
  {
   "cell_type": "code",
   "execution_count": 8,
   "id": "historic-hospital",
   "metadata": {},
   "outputs": [],
   "source": [
    "df.to_excel('자전거 대여소.xlsx')"
   ]
  }
 ],
 "metadata": {
  "kernelspec": {
   "display_name": "Python 3",
   "language": "python",
   "name": "python3"
  },
  "language_info": {
   "codemirror_mode": {
    "name": "ipython",
    "version": 3
   },
   "file_extension": ".py",
   "mimetype": "text/x-python",
   "name": "python",
   "nbconvert_exporter": "python",
   "pygments_lexer": "ipython3",
   "version": "3.7.9"
  },
  "toc": {
   "base_numbering": 1,
   "nav_menu": {},
   "number_sections": true,
   "sideBar": true,
   "skip_h1_title": false,
   "title_cell": "Table of Contents",
   "title_sidebar": "Contents",
   "toc_cell": false,
   "toc_position": {},
   "toc_section_display": true,
   "toc_window_display": false
  }
 },
 "nbformat": 4,
 "nbformat_minor": 5
}
